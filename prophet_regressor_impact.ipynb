{
 "cells": [
  {
   "cell_type": "markdown",
   "metadata": {},
   "source": [
    "## Import Modules"
   ]
  },
  {
   "cell_type": "code",
   "execution_count": 30,
   "metadata": {},
   "outputs": [],
   "source": [
    "import pandas as pd\n",
    "import numpy as np\n",
    "import os\n",
    "from prophet import Prophet"
   ]
  },
  {
   "cell_type": "markdown",
   "metadata": {},
   "source": [
    "## Load Dataset"
   ]
  },
  {
   "cell_type": "code",
   "execution_count": 31,
   "metadata": {},
   "outputs": [],
   "source": [
    "# Read property sales data.\n",
    "property_sales_df = pd.read_csv(r\"Dataset\\raw_sales.csv\") "
   ]
  },
  {
   "cell_type": "markdown",
   "metadata": {},
   "source": [
    "## Prepare Dataset for Prophet."
   ]
  },
  {
   "cell_type": "code",
   "execution_count": 32,
   "metadata": {},
   "outputs": [
    {
     "data": {
      "text/html": [
       "<div>\n",
       "<style scoped>\n",
       "    .dataframe tbody tr th:only-of-type {\n",
       "        vertical-align: middle;\n",
       "    }\n",
       "\n",
       "    .dataframe tbody tr th {\n",
       "        vertical-align: top;\n",
       "    }\n",
       "\n",
       "    .dataframe thead th {\n",
       "        text-align: right;\n",
       "    }\n",
       "</style>\n",
       "<table border=\"1\" class=\"dataframe\">\n",
       "  <thead>\n",
       "    <tr style=\"text-align: right;\">\n",
       "      <th></th>\n",
       "      <th>datesold</th>\n",
       "      <th>postcode</th>\n",
       "      <th>price</th>\n",
       "      <th>propertyType</th>\n",
       "      <th>bedrooms</th>\n",
       "    </tr>\n",
       "  </thead>\n",
       "  <tbody>\n",
       "    <tr>\n",
       "      <th>0</th>\n",
       "      <td>2007-02-07 00:00:00</td>\n",
       "      <td>2607</td>\n",
       "      <td>525000</td>\n",
       "      <td>house</td>\n",
       "      <td>4</td>\n",
       "    </tr>\n",
       "    <tr>\n",
       "      <th>1</th>\n",
       "      <td>2007-02-27 00:00:00</td>\n",
       "      <td>2906</td>\n",
       "      <td>290000</td>\n",
       "      <td>house</td>\n",
       "      <td>3</td>\n",
       "    </tr>\n",
       "    <tr>\n",
       "      <th>2</th>\n",
       "      <td>2007-03-07 00:00:00</td>\n",
       "      <td>2905</td>\n",
       "      <td>328000</td>\n",
       "      <td>house</td>\n",
       "      <td>3</td>\n",
       "    </tr>\n",
       "    <tr>\n",
       "      <th>3</th>\n",
       "      <td>2007-03-09 00:00:00</td>\n",
       "      <td>2905</td>\n",
       "      <td>380000</td>\n",
       "      <td>house</td>\n",
       "      <td>4</td>\n",
       "    </tr>\n",
       "    <tr>\n",
       "      <th>4</th>\n",
       "      <td>2007-03-21 00:00:00</td>\n",
       "      <td>2906</td>\n",
       "      <td>310000</td>\n",
       "      <td>house</td>\n",
       "      <td>3</td>\n",
       "    </tr>\n",
       "  </tbody>\n",
       "</table>\n",
       "</div>"
      ],
      "text/plain": [
       "              datesold  postcode   price propertyType  bedrooms\n",
       "0  2007-02-07 00:00:00      2607  525000        house         4\n",
       "1  2007-02-27 00:00:00      2906  290000        house         3\n",
       "2  2007-03-07 00:00:00      2905  328000        house         3\n",
       "3  2007-03-09 00:00:00      2905  380000        house         4\n",
       "4  2007-03-21 00:00:00      2906  310000        house         3"
      ]
     },
     "execution_count": 32,
     "metadata": {},
     "output_type": "execute_result"
    }
   ],
   "source": [
    "# Get first five rows of the dataframe.\n",
    "property_sales_df.head()"
   ]
  },
  {
   "cell_type": "code",
   "execution_count": 33,
   "metadata": {},
   "outputs": [],
   "source": [
    "# Rename columns to follow prophet data input format.\n",
    "property_sales_df = property_sales_df.rename(columns = {\n",
    "                                                        \"datesold\":\"ds\", \n",
    "                                                        \"price\":\"y\"\n",
    "                                                       }\n",
    "                                            )\n",
    "\n",
    "# Remove unnecessary columns from the data.\n",
    "property_sales_df = property_sales_df.drop(columns = [\n",
    "                                                      \"postcode\"\n",
    "                                                     ]\n",
    "                                          )\n",
    "\n",
    "# Convert datetime column to required format.\n",
    "property_sales_df[\"ds\"] = pd.to_datetime(property_sales_df[\"ds\"])\n",
    "\n",
    "\n",
    "# Group dataframe to aggregate sales for each property type.\n",
    "property_sales_df = property_sales_df.groupby([\n",
    "                                               \"ds\",\n",
    "                                               \"propertyType\"\n",
    "                                              ]\n",
    "                                             )\\\n",
    "                                     .agg({\n",
    "                                                \"y\":\"sum\",\n",
    "                                                \"bedrooms\":\"sum\"\n",
    "                                          }\n",
    "                                         ).reset_index()"
   ]
  },
  {
   "cell_type": "markdown",
   "metadata": {},
   "source": [
    "## Forecast Sales for 10 time steps into the future using Prophet."
   ]
  },
  {
   "cell_type": "code",
   "execution_count": null,
   "metadata": {},
   "outputs": [],
   "source": [
    "# Define forecast function to apply to the entire dataframe. \n",
    "\n",
    "def forecast(grouped_data:pd.DataFrame()) -> pd.DataFrame():\n",
    "    \n",
    "    # Get the property type of the group.\n",
    "    property_type = grouped_data[\"propertyType\"].unique()[0]\n",
    "    \n",
    "    # Filter out columns required for training.\n",
    "    train_df_sales = grouped_data[[\"ds\", \"y\", \"bedrooms\"]]\n",
    "    \n",
    "    train_df_regressor = grouped_data[[\"ds\", \"bedrooms\"]].rename(columns = {\"bedrooms\":\"y\"})\n",
    "    \n",
    "    # Initialize the prophet object\n",
    "    \n",
    "    \n",
    "    \n",
    "    \n",
    "    \n",
    "    \n",
    "    \n"
   ]
  }
 ],
 "metadata": {
  "kernelspec": {
   "display_name": "Python 3.7.0 ('prop_exp_env')",
   "language": "python",
   "name": "python3"
  },
  "language_info": {
   "codemirror_mode": {
    "name": "ipython",
    "version": 3
   },
   "file_extension": ".py",
   "mimetype": "text/x-python",
   "name": "python",
   "nbconvert_exporter": "python",
   "pygments_lexer": "ipython3",
   "version": "3.7.13"
  },
  "orig_nbformat": 4,
  "vscode": {
   "interpreter": {
    "hash": "9ef46ccd9fa5c9c8cec041b9a40a13ee6d980b0370bb1519ed03d888ec1169d3"
   }
  }
 },
 "nbformat": 4,
 "nbformat_minor": 2
}
